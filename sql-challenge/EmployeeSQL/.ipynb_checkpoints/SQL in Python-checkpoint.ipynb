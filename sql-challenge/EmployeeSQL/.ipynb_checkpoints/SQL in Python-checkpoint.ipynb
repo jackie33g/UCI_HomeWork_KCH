{
 "cells": [
  {
   "cell_type": "code",
   "execution_count": 1,
   "metadata": {},
   "outputs": [],
   "source": [
    "import pandas as pd\n",
    "import matplotlib.pyplot as plt\n",
    "import numpy as np\n",
    "import scipy.stats as stats"
   ]
  },
  {
   "cell_type": "code",
   "execution_count": 2,
   "metadata": {},
   "outputs": [],
   "source": [
    "from sqlalchemy import create_engine\n",
    "\n",
    "engine = create_engine('postgresql://localhost:5432/SQL-Challenge')\n",
    "connection = engine.connect()"
   ]
  },
  {
   "cell_type": "code",
   "execution_count": 3,
   "metadata": {},
   "outputs": [],
   "source": [
    "data = pd.read_sql(sql=\"SELECT * FROM salaries\", con=connection)\n"
   ]
  },
  {
   "cell_type": "code",
   "execution_count": 4,
   "metadata": {},
   "outputs": [
    {
     "data": {
      "text/plain": [
       "0         60117\n",
       "1         65828\n",
       "2         40006\n",
       "3         40054\n",
       "4         78228\n",
       "          ...  \n",
       "300019    40000\n",
       "300020    58058\n",
       "300021    49597\n",
       "300022    40000\n",
       "300023    63707\n",
       "Name: salary, Length: 300024, dtype: int64"
      ]
     },
     "execution_count": 4,
     "metadata": {},
     "output_type": "execute_result"
    }
   ],
   "source": [
    "salaries = data[\"salary\"]\n",
    "salaries"
   ]
  },
  {
   "cell_type": "code",
   "execution_count": 38,
   "metadata": {},
   "outputs": [
    {
     "data": {
      "image/png": "[encoded data removed]",
      "text/plain": [
       "<Figure size 432x288 with 1 Axes>"
      ]
     },
     "metadata": {
      "needs_background": "light"
     },
     "output_type": "display_data"
    },
    {
     "name": "stdout",
     "output_type": "stream",
     "text": [
      "The mean salaries ranges for employees is 52970.732451403885\n",
      "The median salaries ranges for employees is 48681.0\n",
      "The mode salaries ranges for employees is ModeResult(mode=array([40000]), count=array([95346]))\n"
     ]
    }
   ],
   "source": [
    "plt.hist(salaries, bins= 50)\n",
    "plt.xlabel('Salaries Range')\n",
    "plt.ylabel('Counts')\n",
    "plt.title('Most common salary ranges for employees.')\n",
    "plt.show()\n",
    "\n",
    "mean_numpy = np.mean(salaries)\n",
    "print(f\"The mean salaries ranges for employees is {mean_numpy}\")\n",
    "median_numpy = np.median(salaries)\n",
    "print(f\"The median salaries ranges for employees is {median_numpy}\")\n",
    "mode_scipy = stats.mode(salaries)\n",
    "print(f\"The mode salaries ranges for employees is {mode_scipy}\")"
   ]
  },
  {
   "cell_type": "code",
   "execution_count": 40,
   "metadata": {},
   "outputs": [
    {
     "data": {
      "text/html": [
       "<div>\n",
       "<style scoped>\n",
       "    .dataframe tbody tr th:only-of-type {\n",
       "        vertical-align: middle;\n",
       "    }\n",
       "\n",
       "    .dataframe tbody tr th {\n",
       "        vertical-align: top;\n",
       "    }\n",
       "\n",
       "    .dataframe thead th {\n",
       "        text-align: right;\n",
       "    }\n",
       "</style>\n",
       "<table border=\"1\" class=\"dataframe\">\n",
       "  <thead>\n",
       "    <tr style=\"text-align: right;\">\n",
       "      <th></th>\n",
       "      <th>salary</th>\n",
       "      <th>title</th>\n",
       "    </tr>\n",
       "  </thead>\n",
       "  <tbody>\n",
       "    <tr>\n",
       "      <th>0</th>\n",
       "      <td>48973</td>\n",
       "      <td>Engineer</td>\n",
       "    </tr>\n",
       "    <tr>\n",
       "      <th>1</th>\n",
       "      <td>40000</td>\n",
       "      <td>Senior Engineer</td>\n",
       "    </tr>\n",
       "    <tr>\n",
       "      <th>2</th>\n",
       "      <td>43548</td>\n",
       "      <td>Technique Leader</td>\n",
       "    </tr>\n",
       "    <tr>\n",
       "      <th>3</th>\n",
       "      <td>63377</td>\n",
       "      <td>Staff</td>\n",
       "    </tr>\n",
       "    <tr>\n",
       "      <th>4</th>\n",
       "      <td>40000</td>\n",
       "      <td>Senior Engineer</td>\n",
       "    </tr>\n",
       "    <tr>\n",
       "      <th>...</th>\n",
       "      <td>...</td>\n",
       "      <td>...</td>\n",
       "    </tr>\n",
       "    <tr>\n",
       "      <th>300019</th>\n",
       "      <td>40000</td>\n",
       "      <td>Staff</td>\n",
       "    </tr>\n",
       "    <tr>\n",
       "      <th>300020</th>\n",
       "      <td>40000</td>\n",
       "      <td>Technique Leader</td>\n",
       "    </tr>\n",
       "    <tr>\n",
       "      <th>300021</th>\n",
       "      <td>59703</td>\n",
       "      <td>Senior Engineer</td>\n",
       "    </tr>\n",
       "    <tr>\n",
       "      <th>300022</th>\n",
       "      <td>48038</td>\n",
       "      <td>Senior Engineer</td>\n",
       "    </tr>\n",
       "    <tr>\n",
       "      <th>300023</th>\n",
       "      <td>40000</td>\n",
       "      <td>Senior Engineer</td>\n",
       "    </tr>\n",
       "  </tbody>\n",
       "</table>\n",
       "<p>300024 rows × 2 columns</p>\n",
       "</div>"
      ],
      "text/plain": [
       "        salary             title\n",
       "0        48973          Engineer\n",
       "1        40000   Senior Engineer\n",
       "2        43548  Technique Leader\n",
       "3        63377             Staff\n",
       "4        40000   Senior Engineer\n",
       "...        ...               ...\n",
       "300019   40000             Staff\n",
       "300020   40000  Technique Leader\n",
       "300021   59703   Senior Engineer\n",
       "300022   48038   Senior Engineer\n",
       "300023   40000   Senior Engineer\n",
       "\n",
       "[300024 rows x 2 columns]"
      ]
     },
     "execution_count": 40,
     "metadata": {},
     "output_type": "execute_result"
    }
   ],
   "source": [
    "title_data = pd.read_sql(sql=\"\"\"SELECT salary, title \n",
    "                                FROM salaries s \n",
    "                                JOIN employees e \n",
    "                                ON (e.emp_no = s.emp_no) \n",
    "                                JOIN titles t \n",
    "                                ON (e.emp_title_id = t.title_id);\"\"\", con=connection)\n",
    "title_data"
   ]
  },
  {
   "cell_type": "code",
   "execution_count": 41,
   "metadata": {},
   "outputs": [
    {
     "data": {
      "image/png": "[encoded data removed]",
      "text/plain": [
       "<Figure size 432x288 with 1 Axes>"
      ]
     },
     "metadata": {
      "needs_background": "light"
     },
     "output_type": "display_data"
    }
   ],
   "source": [
    "avg_salary_title = title_data.groupby('title').mean()\n",
    "# avg_salary_title\n",
    "# Chart our data, give it a title, and label the axes\n",
    "avg_salary_title_chart = avg_salary_title.plot(kind=\"bar\", title=\"Average Salary by Title.\")\n",
    "\n",
    "avg_salary_title_chart.set_ylabel(\"Salaries\")\n",
    "\n",
    "plt.show()\n",
    "# plt.tight_layout()"
   ]
  },
  {
   "cell_type": "code",
   "execution_count": null,
   "metadata": {},
   "outputs": [],
   "source": []
  }
 ],
 "metadata": {
  "kernelspec": {
   "display_name": "Python 3",
   "language": "python",
   "name": "python3"
  },
  "language_info": {
   "codemirror_mode": {
    "name": "ipython",
    "version": 3
   },
   "file_extension": ".py",
   "mimetype": "text/x-python",
   "name": "python",
   "nbconvert_exporter": "python",
   "pygments_lexer": "ipython3",
   "version": "3.8.3"
  }
 },
 "nbformat": 4,
 "nbformat_minor": 4
}
