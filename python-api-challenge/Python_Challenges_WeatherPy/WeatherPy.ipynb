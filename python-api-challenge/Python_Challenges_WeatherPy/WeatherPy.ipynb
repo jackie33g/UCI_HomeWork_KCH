{
 "cells": [
  {
   "cell_type": "markdown",
   "metadata": {},
   "source": [
    "# WeatherPy\n",
    "----\n",
    "\n",
    "#### Note\n",
    "* Instructions have been included for each segment. You do not have to follow them exactly, but they are included to help you think through the steps."
   ]
  },
  {
   "cell_type": "code",
   "execution_count": 17,
   "metadata": {
    "scrolled": true
   },
   "outputs": [
    {
     "data": {
      "text/plain": [
       "'http://api.openweathermap.org/data/2.5/weather?appid=e02ac5f08381e514f75f6cac9c496d6e&units=imperial&q='"
      ]
     },
     "execution_count": 17,
     "metadata": {},
     "output_type": "execute_result"
    }
   ],
   "source": [
    "# Dependencies\n",
    "from api_keys import (weather_api_key, g_key)\n",
    "\n",
    "import matplotlib.pyplot as plt\n",
    "import requests\n",
    "from scipy import stats\n",
    "import pandas as pd\n",
    "\n",
    "units = \"imperial\"\n",
    "\n",
    "# Incorporated citipy to determine city based on latitude and longitude\n",
    "from citipy import citipy\n",
    "\n",
    "output_data = \"Output/weather_data.csv\"\n",
    "\n",
    "lat_range = (-90, 90)\n",
    "lng_range = (-180, 180)\n",
    "\n",
    "# Build partial query URL\n",
    "url=\"http://api.openweathermap.org/data/2.5/weather?\"\n",
    "query_url = f\"{url}appid={weather_api_key}&units={units}&q=\"\n",
    "# query_url"
   ]
  },
  {
   "cell_type": "markdown",
   "metadata": {},
   "source": [
    "## Generate Cities List"
   ]
  },
  {
   "cell_type": "code",
   "execution_count": 16,
   "metadata": {},
   "outputs": [
    {
     "data": {
      "text/plain": [
       "626"
      ]
     },
     "execution_count": 16,
     "metadata": {},
     "output_type": "execute_result"
    }
   ],
   "source": [
    "# List for holding lat_lngs and cities\n",
    "lat_lngs = []\n",
    "cities = []\n",
    "\n",
    "# Create a set of random lat and lng combinations\n",
    "lats = np.random.uniform(low=-90.000, high=90.000, size=1500)\n",
    "lngs = np.random.uniform(low=-180.000, high=180.000, size=1500)\n",
    "lat_lngs = zip(lats, lngs)\n",
    "\n",
    "# Identify nearest city for each lat, lng combination\n",
    "for lat_lng in lat_lngs:\n",
    "    city = citipy.nearest_city(lat_lng[0], lat_lng[1]).city_name\n",
    "    \n",
    "# If the city is unique, then add it to a our cities list\n",
    "    if city not in cities:\n",
    "        cities.append(city)\n",
    "\n",
    "# Print the city count to confirm sufficient count\n",
    "len(cities)\n"
   ]
  },
  {
   "cell_type": "markdown",
   "metadata": {},
   "source": [
    "### Perform API Calls\n",
    "* Perform a weather check on each city using a series of successive API calls.\n",
    "* Include a print log of each city as it'sbeing processed (with the city number and city name).\n"
   ]
  },
  {
   "cell_type": "code",
   "execution_count": 21,
   "metadata": {
    "scrolled": true
   },
   "outputs": [
    {
     "name": "stdout",
     "output_type": "stream",
     "text": [
      "-----------------------------\n",
      "Beginning Data Retrieval\n",
      "-----------------------------\n",
      "Processing Record 1 of Set 1 | jamestown\n",
      "Processing Record 2 of Set 1 | new norfolk\n",
      "City not found. Skipping...\n",
      "Processing Record 1 of Set 2 | buarcos\n",
      "Processing Record 2 of Set 2 | port blair\n",
      "Processing Record 3 of Set 2 | christchurch\n",
      "Processing Record 4 of Set 2 | cape town\n",
      "Processing Record 5 of Set 2 | atuona\n",
      "Processing Record 6 of Set 2 | puerto ayora\n",
      "Processing Record 7 of Set 2 | hobart\n",
      "Processing Record 8 of Set 2 | miles city\n",
      "Processing Record 9 of Set 2 | sibolga\n",
      "Processing Record 10 of Set 2 | busselton\n",
      "Processing Record 11 of Set 2 | arraial do cabo\n",
      "Processing Record 12 of Set 2 | severo-kurilsk\n",
      "Processing Record 13 of Set 2 | rikitea\n",
      "Processing Record 14 of Set 2 | sorland\n",
      "Processing Record 15 of Set 2 | tuktoyaktuk\n",
      "Processing Record 16 of Set 2 | iqaluit\n",
      "Processing Record 17 of Set 2 | kapaa\n",
      "Processing Record 18 of Set 2 | bambous virieux\n",
      "Processing Record 19 of Set 2 | grindavik\n",
      "Processing Record 20 of Set 2 | mataura\n",
      "Processing Record 21 of Set 2 | bredasdorp\n",
      "Processing Record 22 of Set 2 | dano\n",
      "Processing Record 23 of Set 2 | karpogory\n",
      "Processing Record 24 of Set 2 | abilene\n",
      "City not found. Skipping...\n",
      "Processing Record 1 of Set 3 | khorinsk\n",
      "City not found. Skipping...\n",
      "Processing Record 1 of Set 4 | ugoofaaru\n",
      "Processing Record 2 of Set 4 | butaritari\n",
      "Processing Record 3 of Set 4 | aasiaat\n",
      "Processing Record 4 of Set 4 | leningradskiy\n",
      "Processing Record 5 of Set 4 | champerico\n",
      "City not found. Skipping...\n",
      "Processing Record 1 of Set 5 | hermanus\n",
      "Processing Record 2 of Set 5 | shahreza\n",
      "Processing Record 3 of Set 5 | richards bay\n",
      "Processing Record 4 of Set 5 | bluff\n",
      "Processing Record 5 of Set 5 | ahipara\n",
      "City not found. Skipping...\n",
      "Processing Record 1 of Set 6 | bethel\n",
      "Processing Record 2 of Set 6 | villarrica\n",
      "Processing Record 3 of Set 6 | san miguel\n",
      "Processing Record 4 of Set 6 | georgetown\n",
      "Processing Record 5 of Set 6 | tuatapere\n",
      "Processing Record 6 of Set 6 | ushuaia\n",
      "Processing Record 7 of Set 6 | albany\n",
      "Processing Record 8 of Set 6 | hobyo\n",
      "Processing Record 9 of Set 6 | trincomalee\n",
      "Processing Record 10 of Set 6 | nikolskoye\n",
      "Processing Record 11 of Set 6 | bridgetown\n",
      "Processing Record 12 of Set 6 | posevnaya\n",
      "City not found. Skipping...\n",
      "Processing Record 1 of Set 7 | qaanaaq\n",
      "Processing Record 2 of Set 7 | thompson\n",
      "Processing Record 3 of Set 7 | namibe\n",
      "Processing Record 4 of Set 7 | yerbogachen\n",
      "Processing Record 5 of Set 7 | tasiilaq\n",
      "Processing Record 6 of Set 7 | isla aguada\n",
      "Processing Record 7 of Set 7 | misratah\n",
      "City not found. Skipping...\n",
      "Processing Record 1 of Set 8 | srednekolymsk\n",
      "Processing Record 2 of Set 8 | pemangkat\n",
      "Processing Record 3 of Set 8 | pecos\n",
      "Processing Record 4 of Set 8 | port hedland\n",
      "Processing Record 5 of Set 8 | aklavik\n",
      "Processing Record 6 of Set 8 | victoria\n",
      "Processing Record 7 of Set 8 | zatoka\n",
      "Processing Record 8 of Set 8 | hilo\n",
      "Processing Record 9 of Set 8 | east london\n",
      "Processing Record 10 of Set 8 | carbonia\n",
      "Processing Record 11 of Set 8 | mys shmidta\n",
      "Processing Record 12 of Set 8 | vanimo\n",
      "City not found. Skipping...\n",
      "Processing Record 1 of Set 9 | provideniya\n",
      "Processing Record 2 of Set 9 | vaini\n",
      "Processing Record 3 of Set 9 | dera din panah\n",
      "Processing Record 4 of Set 9 | manikganj\n",
      "Processing Record 5 of Set 9 | mizdah\n",
      "Processing Record 6 of Set 9 | remontnoye\n",
      "Processing Record 7 of Set 9 | moscow\n",
      "City not found. Skipping...\n",
      "Processing Record 1 of Set 10 | poum\n",
      "Processing Record 2 of Set 10 | banda aceh\n",
      "Processing Record 3 of Set 10 | batagay-alyta\n",
      "Processing Record 4 of Set 10 | port augusta\n",
      "Processing Record 5 of Set 10 | barrow\n",
      "Processing Record 6 of Set 10 | port alfred\n",
      "Processing Record 7 of Set 10 | punta arenas\n",
      "Processing Record 8 of Set 10 | nagapattinam\n",
      "Processing Record 9 of Set 10 | chuy\n",
      "City not found. Skipping...\n",
      "Processing Record 1 of Set 11 | torbay\n",
      "Processing Record 2 of Set 11 | mecca\n",
      "Processing Record 3 of Set 11 | saint-pierre\n",
      "Processing Record 4 of Set 11 | luanda\n",
      "Processing Record 5 of Set 11 | ribeira grande\n",
      "Processing Record 6 of Set 11 | nanortalik\n",
      "Processing Record 7 of Set 11 | adrar\n",
      "Processing Record 8 of Set 11 | cukai\n",
      "Processing Record 9 of Set 11 | cherskiy\n",
      "Processing Record 10 of Set 11 | varadero\n",
      "City not found. Skipping...\n",
      "Processing Record 1 of Set 12 | kununurra\n",
      "Processing Record 2 of Set 12 | bani walid\n",
      "Processing Record 3 of Set 12 | rincon\n",
      "Processing Record 4 of Set 12 | yellowknife\n",
      "Processing Record 5 of Set 12 | saskylakh\n",
      "Processing Record 6 of Set 12 | miri\n",
      "Processing Record 7 of Set 12 | filingue\n",
      "Processing Record 8 of Set 12 | payo\n",
      "Processing Record 9 of Set 12 | hofn\n",
      "Processing Record 10 of Set 12 | lompoc\n",
      "Processing Record 11 of Set 12 | yelizavetino\n",
      "Processing Record 12 of Set 12 | tiksi\n",
      "Processing Record 13 of Set 12 | bengkulu\n",
      "Processing Record 14 of Set 12 | lebu\n",
      "Processing Record 15 of Set 12 | saint-philippe\n",
      "Processing Record 16 of Set 12 | shenjiamen\n",
      "Processing Record 17 of Set 12 | bandarbeyla\n",
      "Processing Record 18 of Set 12 | ixtapa\n",
      "Processing Record 19 of Set 12 | port pirie\n",
      "Processing Record 20 of Set 12 | dikson\n",
      "Processing Record 21 of Set 12 | yichang\n",
      "Processing Record 22 of Set 12 | katsuura\n",
      "Processing Record 23 of Set 12 | udachnyy\n",
      "City not found. Skipping...\n",
      "Processing Record 1 of Set 13 | avarua\n",
      "Processing Record 2 of Set 13 | ruteng\n",
      "Processing Record 3 of Set 13 | ponta do sol\n",
      "Processing Record 4 of Set 13 | goderich\n",
      "Processing Record 5 of Set 13 | terrace\n",
      "Processing Record 6 of Set 13 | upernavik\n",
      "Processing Record 7 of Set 13 | manakara\n",
      "Processing Record 8 of Set 13 | banjar\n",
      "Processing Record 9 of Set 13 | avenal\n",
      "Processing Record 10 of Set 13 | vestmanna\n",
      "Processing Record 11 of Set 13 | uyemskiy\n",
      "Processing Record 12 of Set 13 | sabha\n",
      "Processing Record 13 of Set 13 | boguchany\n",
      "Processing Record 14 of Set 13 | guatire\n",
      "Processing Record 15 of Set 13 | padang\n",
      "Processing Record 16 of Set 13 | bosobolo\n",
      "Processing Record 17 of Set 13 | alofi\n",
      "Processing Record 18 of Set 13 | sulangan\n",
      "Processing Record 19 of Set 13 | pangnirtung\n",
      "City not found. Skipping...\n",
      "Processing Record 1 of Set 14 | acarau\n",
      "Processing Record 2 of Set 14 | pleshanovo\n",
      "Processing Record 3 of Set 14 | aksu\n",
      "Processing Record 4 of Set 14 | tura\n",
      "Processing Record 5 of Set 14 | maun\n",
      "Processing Record 6 of Set 14 | saint-michel-des-saints\n",
      "Processing Record 7 of Set 14 | bezhetsk\n",
      "Processing Record 8 of Set 14 | vila franca do campo\n",
      "Processing Record 9 of Set 14 | iguape\n",
      "Processing Record 10 of Set 14 | huron\n",
      "Processing Record 11 of Set 14 | male\n",
      "Processing Record 12 of Set 14 | erenhot\n",
      "Processing Record 13 of Set 14 | mahebourg\n",
      "Processing Record 14 of Set 14 | ponta delgada\n",
      "Processing Record 15 of Set 14 | mollendo\n",
      "Processing Record 16 of Set 14 | san patricio\n",
      "Processing Record 17 of Set 14 | nuuk\n",
      "Processing Record 18 of Set 14 | colonia\n",
      "Processing Record 19 of Set 14 | khatanga\n",
      "Processing Record 20 of Set 14 | shieli\n",
      "Processing Record 21 of Set 14 | cabo san lucas\n",
      "Processing Record 22 of Set 14 | marystown\n",
      "Processing Record 23 of Set 14 | pachora\n",
      "Processing Record 24 of Set 14 | vila velha\n",
      "Processing Record 25 of Set 14 | jorochito\n",
      "Processing Record 26 of Set 14 | oistins\n",
      "Processing Record 27 of Set 14 | isangel\n",
      "Processing Record 28 of Set 14 | lar gerd\n",
      "Processing Record 29 of Set 14 | mar del plata\n",
      "Processing Record 30 of Set 14 | yenagoa\n",
      "Processing Record 31 of Set 14 | nideggen\n",
      "Processing Record 32 of Set 14 | kuala terengganu\n",
      "City not found. Skipping...\n",
      "Processing Record 1 of Set 15 | kiama\n",
      "Processing Record 2 of Set 15 | vicuna\n",
      "Processing Record 3 of Set 15 | siwana\n",
      "Processing Record 4 of Set 15 | longyearbyen\n",
      "City not found. Skipping...\n",
      "Processing Record 1 of Set 16 | olyka\n",
      "Processing Record 2 of Set 16 | valadares\n",
      "Processing Record 3 of Set 16 | osoyoos\n",
      "Processing Record 4 of Set 16 | port elizabeth\n",
      "City not found. Skipping...\n",
      "Processing Record 1 of Set 17 | carlagan\n",
      "Processing Record 2 of Set 17 | bilma\n",
      "Processing Record 3 of Set 17 | kruisfontein\n",
      "Processing Record 4 of Set 17 | viedma\n",
      "Processing Record 5 of Set 17 | aykhal\n",
      "Processing Record 6 of Set 17 | lasa\n",
      "Processing Record 7 of Set 17 | sharlyk\n",
      "Processing Record 8 of Set 17 | lengshuijiang\n",
      "Processing Record 9 of Set 17 | panukulan\n",
      "Processing Record 10 of Set 17 | mount gambier\n"
     ]
    },
    {
     "name": "stdout",
     "output_type": "stream",
     "text": [
      "Processing Record 11 of Set 17 | zhigansk\n",
      "Processing Record 12 of Set 17 | nagua\n",
      "Processing Record 13 of Set 17 | tatawin\n",
      "Processing Record 14 of Set 17 | akdepe\n",
      "Processing Record 15 of Set 17 | pilar\n",
      "Processing Record 16 of Set 17 | maniitsoq\n",
      "Processing Record 17 of Set 17 | san carlos de bariloche\n",
      "Processing Record 18 of Set 17 | lujan\n",
      "Processing Record 19 of Set 17 | ginir\n",
      "Processing Record 20 of Set 17 | kamina\n",
      "Processing Record 21 of Set 17 | brae\n",
      "Processing Record 22 of Set 17 | seoul\n",
      "Processing Record 23 of Set 17 | cidreira\n",
      "Processing Record 24 of Set 17 | maningrida\n",
      "Processing Record 25 of Set 17 | zinapecuaro\n",
      "City not found. Skipping...\n",
      "City not found. Skipping...\n",
      "City not found. Skipping...\n",
      "Processing Record 1 of Set 20 | bhinga\n",
      "Processing Record 2 of Set 20 | batagay\n",
      "Processing Record 3 of Set 20 | marshall\n",
      "Processing Record 4 of Set 20 | rovaniemi\n",
      "Processing Record 5 of Set 20 | hasaki\n",
      "Processing Record 6 of Set 20 | hithadhoo\n",
      "Processing Record 7 of Set 20 | nelson bay\n",
      "Processing Record 8 of Set 20 | marawi\n",
      "Processing Record 9 of Set 20 | deputatskiy\n",
      "Processing Record 10 of Set 20 | jadu\n",
      "Processing Record 11 of Set 20 | olinda\n",
      "Processing Record 12 of Set 20 | shumikha\n",
      "Processing Record 13 of Set 20 | sao joao da barra\n",
      "Processing Record 14 of Set 20 | saldanha\n",
      "Processing Record 15 of Set 20 | dudinka\n",
      "Processing Record 16 of Set 20 | ocos\n",
      "Processing Record 17 of Set 20 | asilah\n",
      "Processing Record 18 of Set 20 | high level\n",
      "Processing Record 19 of Set 20 | ilulissat\n",
      "Processing Record 20 of Set 20 | milkovo\n",
      "Processing Record 21 of Set 20 | norman wells\n",
      "City not found. Skipping...\n",
      "Processing Record 1 of Set 21 | san quintin\n",
      "Processing Record 2 of Set 21 | nantucket\n",
      "Processing Record 3 of Set 21 | edson\n",
      "City not found. Skipping...\n",
      "Processing Record 1 of Set 22 | husavik\n",
      "Processing Record 2 of Set 22 | cestas\n",
      "Processing Record 3 of Set 22 | necochea\n",
      "Processing Record 4 of Set 22 | bhadrachalam\n",
      "Processing Record 5 of Set 22 | macas\n",
      "City not found. Skipping...\n",
      "City not found. Skipping...\n",
      "Processing Record 1 of Set 24 | chapais\n",
      "Processing Record 2 of Set 24 | kaitangata\n",
      "Processing Record 3 of Set 24 | strezhevoy\n",
      "Processing Record 4 of Set 24 | tarazona\n",
      "Processing Record 5 of Set 24 | aswan\n",
      "City not found. Skipping...\n",
      "Processing Record 1 of Set 25 | semme\n",
      "Processing Record 2 of Set 25 | verkhoyansk\n",
      "Processing Record 3 of Set 25 | clyde river\n",
      "Processing Record 4 of Set 25 | pakxan\n",
      "Processing Record 5 of Set 25 | lorengau\n",
      "Processing Record 6 of Set 25 | maunabo\n",
      "Processing Record 7 of Set 25 | namtsy\n",
      "Processing Record 8 of Set 25 | coquimbo\n",
      "Processing Record 9 of Set 25 | catio\n",
      "City not found. Skipping...\n",
      "Processing Record 1 of Set 26 | nakapiripirit\n",
      "Processing Record 2 of Set 26 | flin flon\n",
      "Processing Record 3 of Set 26 | xuddur\n",
      "Processing Record 4 of Set 26 | port lincoln\n",
      "Processing Record 5 of Set 26 | jacareacanga\n",
      "Processing Record 6 of Set 26 | balkanabat\n",
      "Processing Record 7 of Set 26 | airai\n",
      "Processing Record 8 of Set 26 | jaque\n",
      "City not found. Skipping...\n",
      "Processing Record 1 of Set 27 | timra\n",
      "Processing Record 2 of Set 27 | ushumun\n",
      "Processing Record 3 of Set 27 | port keats\n",
      "Processing Record 4 of Set 27 | wajima\n",
      "Processing Record 5 of Set 27 | borovoy\n",
      "Processing Record 6 of Set 27 | portmore\n",
      "Processing Record 7 of Set 27 | carballo\n",
      "Processing Record 8 of Set 27 | ust-kuyga\n",
      "City not found. Skipping...\n",
      "Processing Record 1 of Set 28 | sao filipe\n",
      "Processing Record 2 of Set 28 | samarai\n",
      "Processing Record 3 of Set 28 | turbat\n",
      "City not found. Skipping...\n",
      "Processing Record 1 of Set 29 | rawdon\n",
      "Processing Record 2 of Set 29 | tobermory\n",
      "Processing Record 3 of Set 29 | newport\n",
      "Processing Record 4 of Set 29 | sitka\n",
      "City not found. Skipping...\n",
      "Processing Record 1 of Set 30 | turukhansk\n",
      "Processing Record 2 of Set 30 | dryden\n",
      "Processing Record 3 of Set 30 | vanavara\n",
      "Processing Record 4 of Set 30 | tiznit\n",
      "Processing Record 5 of Set 30 | vega de alatorre\n",
      "Processing Record 6 of Set 30 | riyadh\n",
      "City not found. Skipping...\n",
      "Processing Record 1 of Set 31 | mehamn\n",
      "Processing Record 2 of Set 31 | paamiut\n",
      "Processing Record 3 of Set 31 | nome\n",
      "Processing Record 4 of Set 31 | antanifotsy\n",
      "Processing Record 5 of Set 31 | puerto baquerizo moreno\n",
      "Processing Record 6 of Set 31 | balaipungut\n",
      "Processing Record 7 of Set 31 | kurilsk\n",
      "Processing Record 8 of Set 31 | victor harbor\n",
      "Processing Record 9 of Set 31 | ostrovnoy\n",
      "Processing Record 10 of Set 31 | batticaloa\n",
      "Processing Record 11 of Set 31 | ardakan\n",
      "Processing Record 12 of Set 31 | waipawa\n",
      "City not found. Skipping...\n",
      "Processing Record 1 of Set 32 | thiers\n",
      "Processing Record 2 of Set 32 | dubai\n",
      "Processing Record 3 of Set 32 | sakakah\n",
      "Processing Record 4 of Set 32 | alexandria\n",
      "Processing Record 5 of Set 32 | san juan de colon\n",
      "Processing Record 6 of Set 32 | hambantota\n",
      "Processing Record 7 of Set 32 | hanzhong\n",
      "Processing Record 8 of Set 32 | cayenne\n",
      "Processing Record 9 of Set 32 | chernyshevskiy\n",
      "Processing Record 10 of Set 32 | aldan\n",
      "Processing Record 11 of Set 32 | chokurdakh\n",
      "City not found. Skipping...\n",
      "Processing Record 1 of Set 33 | yumen\n",
      "Processing Record 2 of Set 33 | muisne\n",
      "Processing Record 3 of Set 33 | mokhsogollokh\n",
      "Processing Record 4 of Set 33 | khorramshahr\n",
      "Processing Record 5 of Set 33 | fortuna\n",
      "Processing Record 6 of Set 33 | torrington\n",
      "Processing Record 7 of Set 33 | murgab\n",
      "City not found. Skipping...\n",
      "Processing Record 1 of Set 34 | esna\n",
      "Processing Record 2 of Set 34 | mandiana\n",
      "Processing Record 3 of Set 34 | kavieng\n",
      "Processing Record 4 of Set 34 | saint-georges\n",
      "City not found. Skipping...\n",
      "Processing Record 1 of Set 35 | burnie\n",
      "Processing Record 2 of Set 35 | baruun-urt\n",
      "City not found. Skipping...\n",
      "Processing Record 1 of Set 36 | lyuban\n",
      "Processing Record 2 of Set 36 | atambua\n",
      "Processing Record 3 of Set 36 | gigmoto\n",
      "Processing Record 4 of Set 36 | lazaro cardenas\n",
      "Processing Record 5 of Set 36 | santa maria del oro\n",
      "City not found. Skipping...\n",
      "City not found. Skipping...\n",
      "Processing Record 1 of Set 38 | marsabit\n",
      "Processing Record 2 of Set 38 | biak\n",
      "Processing Record 3 of Set 38 | castro\n",
      "Processing Record 4 of Set 38 | najran\n",
      "Processing Record 5 of Set 38 | pacific grove\n",
      "City not found. Skipping...\n",
      "Processing Record 1 of Set 39 | jimma\n",
      "Processing Record 2 of Set 39 | pisco\n",
      "Processing Record 3 of Set 39 | kitimat\n",
      "Processing Record 4 of Set 39 | alyangula\n",
      "Processing Record 5 of Set 39 | tautira\n",
      "Processing Record 6 of Set 39 | opuwo\n",
      "Processing Record 7 of Set 39 | langsa\n",
      "Processing Record 8 of Set 39 | kirakira\n",
      "Processing Record 9 of Set 39 | bilibino\n",
      "Processing Record 10 of Set 39 | las varas\n",
      "Processing Record 11 of Set 39 | abha\n",
      "Processing Record 12 of Set 39 | praia da vitoria\n",
      "Processing Record 13 of Set 39 | mkushi\n",
      "Processing Record 14 of Set 39 | sur\n",
      "Processing Record 15 of Set 39 | lock haven\n",
      "Processing Record 16 of Set 39 | baykit\n",
      "Processing Record 17 of Set 39 | krutinka\n",
      "Processing Record 18 of Set 39 | olafsvik\n",
      "Processing Record 19 of Set 39 | jiayuguan\n",
      "City not found. Skipping...\n",
      "Processing Record 1 of Set 40 | ilula\n",
      "Processing Record 2 of Set 40 | beringovskiy\n",
      "Processing Record 3 of Set 40 | camacha\n",
      "City not found. Skipping...\n",
      "Processing Record 1 of Set 41 | kutahya\n",
      "Processing Record 2 of Set 41 | wanning\n",
      "Processing Record 3 of Set 41 | ladozhskaya\n",
      "City not found. Skipping...\n",
      "Processing Record 1 of Set 42 | faanui\n",
      "Processing Record 2 of Set 42 | okha\n",
      "Processing Record 3 of Set 42 | kedrovyy\n",
      "City not found. Skipping...\n",
      "Processing Record 1 of Set 43 | talnakh\n",
      "Processing Record 2 of Set 43 | de-kastri\n",
      "Processing Record 3 of Set 43 | singapore\n",
      "Processing Record 4 of Set 43 | acapulco\n",
      "City not found. Skipping...\n",
      "Processing Record 1 of Set 44 | kampot\n",
      "Processing Record 2 of Set 44 | kalmunai\n",
      "City not found. Skipping...\n",
      "Processing Record 1 of Set 45 | sesheke\n",
      "Processing Record 2 of Set 45 | launceston\n",
      "Processing Record 3 of Set 45 | fulton\n",
      "Processing Record 4 of Set 45 | gravdal\n",
      "City not found. Skipping...\n",
      "Processing Record 1 of Set 46 | pringsewu\n",
      "Processing Record 2 of Set 46 | ancud\n",
      "Processing Record 3 of Set 46 | kunnamangalam\n",
      "Processing Record 4 of Set 46 | illapel\n",
      "Processing Record 5 of Set 46 | anisoc\n",
      "Processing Record 6 of Set 46 | sumbe\n",
      "Processing Record 7 of Set 46 | floridia\n",
      "Processing Record 8 of Set 46 | shache\n"
     ]
    },
    {
     "name": "stdout",
     "output_type": "stream",
     "text": [
      "Processing Record 9 of Set 46 | bacungan\n",
      "Processing Record 10 of Set 46 | kyra\n",
      "Processing Record 11 of Set 46 | morant bay\n",
      "Processing Record 12 of Set 46 | santa rosa\n",
      "Processing Record 13 of Set 46 | pevek\n",
      "City not found. Skipping...\n",
      "Processing Record 1 of Set 47 | adelaide\n",
      "Processing Record 2 of Set 47 | narsaq\n",
      "Processing Record 3 of Set 47 | hovd\n",
      "Processing Record 4 of Set 47 | clovis\n",
      "Processing Record 5 of Set 47 | almeria\n",
      "Processing Record 6 of Set 47 | paita\n",
      "Processing Record 7 of Set 47 | chaumont\n",
      "Processing Record 8 of Set 47 | kamaishi\n",
      "Processing Record 9 of Set 47 | bonavista\n",
      "Processing Record 10 of Set 47 | thomasville\n",
      "City not found. Skipping...\n",
      "Processing Record 1 of Set 48 | carnarvon\n",
      "City not found. Skipping...\n",
      "Processing Record 1 of Set 49 | port moresby\n",
      "Processing Record 2 of Set 49 | kodiak\n",
      "Processing Record 3 of Set 49 | codrington\n",
      "Processing Record 4 of Set 49 | moose factory\n",
      "Processing Record 5 of Set 49 | fairbanks\n",
      "Processing Record 6 of Set 49 | tahta\n",
      "City not found. Skipping...\n",
      "Processing Record 1 of Set 50 | tignere\n",
      "Processing Record 2 of Set 50 | soe\n",
      "City not found. Skipping...\n",
      "Processing Record 1 of Set 51 | bahia honda\n",
      "City not found. Skipping...\n",
      "Processing Record 1 of Set 52 | varzea grande\n",
      "Processing Record 2 of Set 52 | klyuchi\n",
      "City not found. Skipping...\n",
      "Processing Record 1 of Set 53 | saint-augustin\n",
      "Processing Record 2 of Set 53 | lensk\n",
      "Processing Record 3 of Set 53 | dongsheng\n",
      "Processing Record 4 of Set 53 | mogadishu\n",
      "Processing Record 5 of Set 53 | rey bouba\n",
      "Processing Record 6 of Set 53 | margate\n",
      "Processing Record 7 of Set 53 | itaituba\n",
      "Processing Record 8 of Set 53 | marsh harbour\n",
      "Processing Record 9 of Set 53 | imeni poliny osipenko\n",
      "Processing Record 10 of Set 53 | komsomolskiy\n",
      "Processing Record 11 of Set 53 | myitkyina\n",
      "Processing Record 12 of Set 53 | torres\n",
      "Processing Record 13 of Set 53 | maldonado\n",
      "Processing Record 14 of Set 53 | slonim\n",
      "Processing Record 15 of Set 53 | yulara\n",
      "Processing Record 16 of Set 53 | novoagansk\n",
      "Processing Record 17 of Set 53 | swellendam\n",
      "Processing Record 18 of Set 53 | laguna\n",
      "Processing Record 19 of Set 53 | kovur\n",
      "Processing Record 20 of Set 53 | mayumba\n",
      "Processing Record 21 of Set 53 | grand river south east\n",
      "Processing Record 22 of Set 53 | souillac\n",
      "City not found. Skipping...\n",
      "Processing Record 1 of Set 54 | taltal\n",
      "Processing Record 2 of Set 54 | manokwari\n",
      "Processing Record 3 of Set 54 | bur gabo\n",
      "City not found. Skipping...\n",
      "City not found. Skipping...\n",
      "Processing Record 1 of Set 56 | buluang\n",
      "Processing Record 2 of Set 56 | camacupa\n",
      "Processing Record 3 of Set 56 | sorong\n",
      "Processing Record 4 of Set 56 | constitucion\n",
      "Processing Record 5 of Set 56 | nexo\n",
      "Processing Record 6 of Set 56 | antalaha\n",
      "Processing Record 7 of Set 56 | brightwater\n",
      "Processing Record 8 of Set 56 | nabire\n",
      "Processing Record 9 of Set 56 | necocli\n",
      "Processing Record 10 of Set 56 | rio bravo\n",
      "Processing Record 11 of Set 56 | tanhacu\n",
      "City not found. Skipping...\n",
      "Processing Record 1 of Set 57 | ambon\n",
      "Processing Record 2 of Set 57 | westport\n",
      "Processing Record 3 of Set 57 | bambanglipuro\n",
      "City not found. Skipping...\n",
      "City not found. Skipping...\n",
      "Processing Record 1 of Set 59 | hit\n",
      "Processing Record 2 of Set 59 | loandjili\n",
      "City not found. Skipping...\n",
      "Processing Record 1 of Set 60 | jilib\n",
      "Processing Record 2 of Set 60 | geraldton\n",
      "City not found. Skipping...\n",
      "Processing Record 1 of Set 61 | puerto escondido\n",
      "Processing Record 2 of Set 61 | hornepayne\n",
      "Processing Record 3 of Set 61 | cape girardeau\n",
      "Processing Record 4 of Set 61 | aleksandrovka\n",
      "Processing Record 5 of Set 61 | college\n",
      "Processing Record 6 of Set 61 | isla vista\n",
      "Processing Record 7 of Set 61 | antofagasta\n",
      "Processing Record 8 of Set 61 | maceio\n",
      "City not found. Skipping...\n",
      "Processing Record 1 of Set 62 | griffith\n",
      "Processing Record 2 of Set 62 | keti bandar\n",
      "City not found. Skipping...\n",
      "Processing Record 1 of Set 63 | termoli\n",
      "Processing Record 2 of Set 63 | montrose\n",
      "Processing Record 3 of Set 63 | sisimiut\n",
      "Processing Record 4 of Set 63 | hay river\n",
      "Processing Record 5 of Set 63 | asosa\n",
      "Processing Record 6 of Set 63 | esperance\n",
      "Processing Record 7 of Set 63 | arica\n",
      "Processing Record 8 of Set 63 | coro\n",
      "Processing Record 9 of Set 63 | naze\n",
      "Processing Record 10 of Set 63 | kholodnyy\n",
      "Processing Record 11 of Set 63 | yuancheng\n",
      "Processing Record 12 of Set 63 | alcaniz\n",
      "Processing Record 13 of Set 63 | shingu\n",
      "Processing Record 14 of Set 63 | fujin\n",
      "Processing Record 15 of Set 63 | sinnamary\n",
      "Processing Record 16 of Set 63 | altay\n",
      "Processing Record 17 of Set 63 | ozinki\n",
      "Processing Record 18 of Set 63 | mandurah\n",
      "City not found. Skipping...\n",
      "Processing Record 1 of Set 64 | leh\n",
      "Processing Record 2 of Set 64 | sambava\n",
      "Processing Record 3 of Set 64 | kaoma\n",
      "Processing Record 4 of Set 64 | sant feliu de guixols\n",
      "Processing Record 5 of Set 64 | caravelas\n",
      "City not found. Skipping...\n",
      "Processing Record 1 of Set 65 | wattegama\n",
      "Processing Record 2 of Set 65 | teya\n",
      "Processing Record 3 of Set 65 | namatanai\n",
      "Processing Record 4 of Set 65 | zyryanka\n",
      "Processing Record 5 of Set 65 | irbeyskoye\n",
      "Processing Record 6 of Set 65 | vardo\n",
      "Processing Record 7 of Set 65 | hamilton\n",
      "Processing Record 8 of Set 65 | doka\n",
      "City not found. Skipping...\n",
      "Processing Record 1 of Set 66 | san cristobal\n",
      "Processing Record 2 of Set 66 | searcy\n",
      "Processing Record 3 of Set 66 | safford\n",
      "Processing Record 4 of Set 66 | pizarro\n",
      "Processing Record 5 of Set 66 | kathu\n",
      "Processing Record 6 of Set 66 | vilhena\n",
      "Processing Record 7 of Set 66 | cabinda\n",
      "City not found. Skipping...\n",
      "Processing Record 1 of Set 67 | egvekinot\n",
      "Processing Record 2 of Set 67 | marietta\n",
      "Processing Record 3 of Set 67 | coihaique\n",
      "Processing Record 4 of Set 67 | hailar\n",
      "Processing Record 5 of Set 67 | guerrero negro\n",
      "Processing Record 6 of Set 67 | salalah\n",
      "Processing Record 7 of Set 67 | yatou\n",
      "Processing Record 8 of Set 67 | antipovka\n",
      "Processing Record 9 of Set 67 | visby\n",
      "Processing Record 10 of Set 67 | zhezkazgan\n",
      "Processing Record 11 of Set 67 | half moon bay\n",
      "Processing Record 12 of Set 67 | lucapa\n",
      "Processing Record 13 of Set 67 | harper\n",
      "Processing Record 14 of Set 67 | cotonou\n",
      "City not found. Skipping...\n",
      "Processing Record 1 of Set 68 | taksimo\n",
      "Processing Record 2 of Set 68 | sobolevo\n",
      "Processing Record 3 of Set 68 | flinders\n",
      "Processing Record 4 of Set 68 | ampanihy\n",
      "Processing Record 5 of Set 68 | dunedin\n",
      "Processing Record 6 of Set 68 | berbera\n",
      "City not found. Skipping...\n",
      "Processing Record 1 of Set 69 | saint-joseph\n",
      "Processing Record 2 of Set 69 | laramie\n",
      "Processing Record 3 of Set 69 | ivaipora\n",
      "Processing Record 4 of Set 69 | balykshi\n",
      "Processing Record 5 of Set 69 | mount isa\n",
      "Processing Record 6 of Set 69 | dhar\n",
      "Processing Record 7 of Set 69 | muros\n",
      "Processing Record 8 of Set 69 | mukhen\n",
      "Processing Record 9 of Set 69 | ibra\n",
      "Processing Record 10 of Set 69 | korla\n",
      "Processing Record 11 of Set 69 | katol\n",
      "Processing Record 12 of Set 69 | palmer\n",
      "Processing Record 13 of Set 69 | bac lieu\n",
      "Processing Record 14 of Set 69 | kabwe\n",
      "Processing Record 15 of Set 69 | puerto colombia\n",
      "Processing Record 16 of Set 69 | ask\n",
      "Processing Record 17 of Set 69 | mahibadhoo\n",
      "Processing Record 18 of Set 69 | monterey\n",
      "Processing Record 19 of Set 69 | zhangzhou\n",
      "Processing Record 20 of Set 69 | ryotsu\n",
      "Processing Record 21 of Set 69 | mago\n",
      "Processing Record 22 of Set 69 | klaksvik\n",
      "Processing Record 23 of Set 69 | trairi\n",
      "Processing Record 24 of Set 69 | san policarpo\n",
      "Processing Record 25 of Set 69 | castlerea\n",
      "Processing Record 26 of Set 69 | khani\n",
      "Processing Record 27 of Set 69 | goundam\n",
      "Processing Record 28 of Set 69 | gagnoa\n",
      "Processing Record 29 of Set 69 | sakaiminato\n",
      "Processing Record 30 of Set 69 | bam\n",
      "Processing Record 31 of Set 69 | kilindoni\n",
      "City not found. Skipping...\n",
      "Processing Record 1 of Set 70 | summerville\n",
      "Processing Record 2 of Set 70 | awjilah\n",
      "City not found. Skipping...\n",
      "Processing Record 1 of Set 71 | caibarien\n",
      "Processing Record 2 of Set 71 | boa vista\n",
      "Processing Record 3 of Set 71 | suicheng\n",
      "Processing Record 4 of Set 71 | north adams\n",
      "Processing Record 5 of Set 71 | ballangen\n",
      "Processing Record 6 of Set 71 | boysun\n",
      "Processing Record 7 of Set 71 | kourou\n",
      "Processing Record 8 of Set 71 | tomatlan\n",
      "Processing Record 9 of Set 71 | biu\n",
      "Processing Record 10 of Set 71 | sidi qasim\n",
      "Processing Record 11 of Set 71 | reforma\n",
      "Processing Record 12 of Set 71 | sevlievo\n"
     ]
    },
    {
     "name": "stdout",
     "output_type": "stream",
     "text": [
      "Processing Record 13 of Set 71 | dingle\n",
      "Processing Record 14 of Set 71 | marsa matruh\n",
      "Processing Record 15 of Set 71 | ilhabela\n",
      "City not found. Skipping...\n",
      "Processing Record 1 of Set 72 | tessalit\n",
      "City not found. Skipping...\n",
      "Processing Record 1 of Set 73 | kintampo\n",
      "Processing Record 2 of Set 73 | pochutla\n",
      "------------------------------\n",
      "Data Retrieval Complete\n",
      "------------------------------\n"
     ]
    }
   ],
   "source": [
    "# set lists\n",
    "city_list = []\n",
    "lats = []\n",
    "lngs = []\n",
    "max_temps = []\n",
    "humidities = []\n",
    "cloudinesses = []\n",
    "wind_speeds = []\n",
    "countries = []\n",
    "dates = []\n",
    "\n",
    "# set initial count quantities for organization\n",
    "count_number = 0\n",
    "set_number = 1\n",
    "\n",
    "# loops for creating dataframe columns\n",
    "print(\"-----------------------------\\nBeginning Data Retrieval\\n-----------------------------\")\n",
    "for city in cities:\n",
    "    try:\n",
    "        response = requests.get(query_url + city.replace(\" \",\"&\")).json()\n",
    "        lats.append(response['coord']['lat'])\n",
    "        lngs.append(response['coord']['lon'])\n",
    "        max_temps.append(response['main']['temp_max'])\n",
    "        humidities.append(response['main']['humidity'])\n",
    "        cloudinesses.append(response['clouds']['all'])\n",
    "        wind_speeds.append(response['wind']['speed'])\n",
    "        countries.append(response['sys']['country'])\n",
    "        dates.append(response['dt'])\n",
    "    \n",
    "\n",
    "        count_number += 1\n",
    "        city_list.append(city)\n",
    "        print(f\"Processing Record {count_number} of Set {set_number} | {city}\")\n",
    "        \n",
    "    except Exception:\n",
    "        count_number = 0\n",
    "        set_number += 1\n",
    "        print(\"City not found. Skipping...\")\n",
    "print(\"------------------------------\\nData Retrieval Complete\\n------------------------------\")\n"
   ]
  },
  {
   "cell_type": "markdown",
   "metadata": {},
   "source": [
    "### Convert Raw Data to DataFrame\n",
    "* Export the city data into a .csv.\n",
    "* Display the DataFrame"
   ]
  },
  {
   "cell_type": "code",
   "execution_count": 24,
   "metadata": {},
   "outputs": [
    {
     "data": {
      "text/html": [
       "<div>\n",
       "<style scoped>\n",
       "    .dataframe tbody tr th:only-of-type {\n",
       "        vertical-align: middle;\n",
       "    }\n",
       "\n",
       "    .dataframe tbody tr th {\n",
       "        vertical-align: top;\n",
       "    }\n",
       "\n",
       "    .dataframe thead th {\n",
       "        text-align: right;\n",
       "    }\n",
       "</style>\n",
       "<table border=\"1\" class=\"dataframe\">\n",
       "  <thead>\n",
       "    <tr style=\"text-align: right;\">\n",
       "      <th></th>\n",
       "      <th>City</th>\n",
       "      <th>Lat</th>\n",
       "      <th>Lng</th>\n",
       "      <th>Max Temp</th>\n",
       "      <th>Humidity</th>\n",
       "      <th>Cloudiness</th>\n",
       "      <th>Wind Speed</th>\n",
       "      <th>Country</th>\n",
       "      <th>Date</th>\n",
       "    </tr>\n",
       "  </thead>\n",
       "  <tbody>\n",
       "    <tr>\n",
       "      <th>0</th>\n",
       "      <td>jamestown</td>\n",
       "      <td>42.10</td>\n",
       "      <td>-79.24</td>\n",
       "      <td>48.99</td>\n",
       "      <td>100</td>\n",
       "      <td>90</td>\n",
       "      <td>5.82</td>\n",
       "      <td>US</td>\n",
       "      <td>1603248192</td>\n",
       "    </tr>\n",
       "    <tr>\n",
       "      <th>1</th>\n",
       "      <td>new norfolk</td>\n",
       "      <td>6.65</td>\n",
       "      <td>-10.59</td>\n",
       "      <td>72.59</td>\n",
       "      <td>98</td>\n",
       "      <td>65</td>\n",
       "      <td>1.61</td>\n",
       "      <td>LR</td>\n",
       "      <td>1603248194</td>\n",
       "    </tr>\n",
       "    <tr>\n",
       "      <th>2</th>\n",
       "      <td>buarcos</td>\n",
       "      <td>40.17</td>\n",
       "      <td>-8.88</td>\n",
       "      <td>60.01</td>\n",
       "      <td>93</td>\n",
       "      <td>40</td>\n",
       "      <td>5.82</td>\n",
       "      <td>PT</td>\n",
       "      <td>1603248195</td>\n",
       "    </tr>\n",
       "    <tr>\n",
       "      <th>3</th>\n",
       "      <td>port blair</td>\n",
       "      <td>-7.03</td>\n",
       "      <td>29.76</td>\n",
       "      <td>72.84</td>\n",
       "      <td>73</td>\n",
       "      <td>24</td>\n",
       "      <td>5.21</td>\n",
       "      <td>CD</td>\n",
       "      <td>1603248028</td>\n",
       "    </tr>\n",
       "    <tr>\n",
       "      <th>4</th>\n",
       "      <td>christchurch</td>\n",
       "      <td>-43.53</td>\n",
       "      <td>172.63</td>\n",
       "      <td>64.00</td>\n",
       "      <td>55</td>\n",
       "      <td>17</td>\n",
       "      <td>10.29</td>\n",
       "      <td>NZ</td>\n",
       "      <td>1603248017</td>\n",
       "    </tr>\n",
       "  </tbody>\n",
       "</table>\n",
       "</div>"
      ],
      "text/plain": [
       "           City    Lat     Lng  Max Temp  Humidity  Cloudiness  Wind Speed  \\\n",
       "0     jamestown  42.10  -79.24     48.99       100          90        5.82   \n",
       "1   new norfolk   6.65  -10.59     72.59        98          65        1.61   \n",
       "2       buarcos  40.17   -8.88     60.01        93          40        5.82   \n",
       "3    port blair  -7.03   29.76     72.84        73          24        5.21   \n",
       "4  christchurch -43.53  172.63     64.00        55          17       10.29   \n",
       "\n",
       "  Country        Date  \n",
       "0      US  1603248192  \n",
       "1      LR  1603248194  \n",
       "2      PT  1603248195  \n",
       "3      CD  1603248028  \n",
       "4      NZ  1603248017  "
      ]
     },
     "execution_count": 24,
     "metadata": {},
     "output_type": "execute_result"
    }
   ],
   "source": [
    "# create a dictionary for df\n",
    "weather_dict = {\n",
    "    \"City\":city_list,\n",
    "    \"Lat\":lats,\n",
    "    \"Lng\":lngs,\n",
    "    \"Max Temp\":max_temps,\n",
    "    \"Humidity\":humidities,\n",
    "    \"Cloudiness\":cloudinesses,\n",
    "    \"Wind Speed\":wind_speeds,\n",
    "    \"Country\":countries,\n",
    "    \"Date\":dates,   \n",
    "}\n",
    "weather_df = pd.DataFrame(weather_dict)\n",
    "weather_df.head()"
   ]
  },
  {
   "cell_type": "code",
   "execution_count": 31,
   "metadata": {},
   "outputs": [
    {
     "data": {
      "text/html": [
       "<div>\n",
       "<style scoped>\n",
       "    .dataframe tbody tr th:only-of-type {\n",
       "        vertical-align: middle;\n",
       "    }\n",
       "\n",
       "    .dataframe tbody tr th {\n",
       "        vertical-align: top;\n",
       "    }\n",
       "\n",
       "    .dataframe thead th {\n",
       "        text-align: right;\n",
       "    }\n",
       "</style>\n",
       "<table border=\"1\" class=\"dataframe\">\n",
       "  <thead>\n",
       "    <tr style=\"text-align: right;\">\n",
       "      <th></th>\n",
       "      <th>Lat</th>\n",
       "      <th>Lng</th>\n",
       "      <th>Max Temp</th>\n",
       "      <th>Humidity</th>\n",
       "      <th>Cloudiness</th>\n",
       "      <th>Wind Speed</th>\n",
       "      <th>Date</th>\n",
       "    </tr>\n",
       "  </thead>\n",
       "  <tbody>\n",
       "    <tr>\n",
       "      <th>count</th>\n",
       "      <td>554.000000</td>\n",
       "      <td>554.000000</td>\n",
       "      <td>554.000000</td>\n",
       "      <td>554.000000</td>\n",
       "      <td>554.000000</td>\n",
       "      <td>554.000000</td>\n",
       "      <td>5.540000e+02</td>\n",
       "    </tr>\n",
       "    <tr>\n",
       "      <th>mean</th>\n",
       "      <td>22.630144</td>\n",
       "      <td>23.065235</td>\n",
       "      <td>59.908592</td>\n",
       "      <td>74.505415</td>\n",
       "      <td>51.949458</td>\n",
       "      <td>7.206841</td>\n",
       "      <td>1.603248e+09</td>\n",
       "    </tr>\n",
       "    <tr>\n",
       "      <th>std</th>\n",
       "      <td>31.478929</td>\n",
       "      <td>84.907755</td>\n",
       "      <td>19.905868</td>\n",
       "      <td>20.539931</td>\n",
       "      <td>39.287704</td>\n",
       "      <td>5.166414</td>\n",
       "      <td>1.498605e+02</td>\n",
       "    </tr>\n",
       "    <tr>\n",
       "      <th>min</th>\n",
       "      <td>-54.800000</td>\n",
       "      <td>-179.170000</td>\n",
       "      <td>3.200000</td>\n",
       "      <td>3.000000</td>\n",
       "      <td>0.000000</td>\n",
       "      <td>0.200000</td>\n",
       "      <td>1.603248e+09</td>\n",
       "    </tr>\n",
       "    <tr>\n",
       "      <th>25%</th>\n",
       "      <td>-0.902500</td>\n",
       "      <td>-51.710000</td>\n",
       "      <td>46.400000</td>\n",
       "      <td>64.000000</td>\n",
       "      <td>9.000000</td>\n",
       "      <td>3.310000</td>\n",
       "      <td>1.603248e+09</td>\n",
       "    </tr>\n",
       "    <tr>\n",
       "      <th>50%</th>\n",
       "      <td>25.815000</td>\n",
       "      <td>25.215000</td>\n",
       "      <td>63.920000</td>\n",
       "      <td>79.500000</td>\n",
       "      <td>50.500000</td>\n",
       "      <td>5.940000</td>\n",
       "      <td>1.603248e+09</td>\n",
       "    </tr>\n",
       "    <tr>\n",
       "      <th>75%</th>\n",
       "      <td>47.852500</td>\n",
       "      <td>97.437500</td>\n",
       "      <td>76.617500</td>\n",
       "      <td>91.000000</td>\n",
       "      <td>90.000000</td>\n",
       "      <td>9.687500</td>\n",
       "      <td>1.603248e+09</td>\n",
       "    </tr>\n",
       "    <tr>\n",
       "      <th>max</th>\n",
       "      <td>78.220000</td>\n",
       "      <td>179.320000</td>\n",
       "      <td>96.800000</td>\n",
       "      <td>100.000000</td>\n",
       "      <td>100.000000</td>\n",
       "      <td>30.380000</td>\n",
       "      <td>1.603249e+09</td>\n",
       "    </tr>\n",
       "  </tbody>\n",
       "</table>\n",
       "</div>"
      ],
      "text/plain": [
       "              Lat         Lng    Max Temp    Humidity  Cloudiness  Wind Speed  \\\n",
       "count  554.000000  554.000000  554.000000  554.000000  554.000000  554.000000   \n",
       "mean    22.630144   23.065235   59.908592   74.505415   51.949458    7.206841   \n",
       "std     31.478929   84.907755   19.905868   20.539931   39.287704    5.166414   \n",
       "min    -54.800000 -179.170000    3.200000    3.000000    0.000000    0.200000   \n",
       "25%     -0.902500  -51.710000   46.400000   64.000000    9.000000    3.310000   \n",
       "50%     25.815000   25.215000   63.920000   79.500000   50.500000    5.940000   \n",
       "75%     47.852500   97.437500   76.617500   91.000000   90.000000    9.687500   \n",
       "max     78.220000  179.320000   96.800000  100.000000  100.000000   30.380000   \n",
       "\n",
       "               Date  \n",
       "count  5.540000e+02  \n",
       "mean   1.603248e+09  \n",
       "std    1.498605e+02  \n",
       "min    1.603248e+09  \n",
       "25%    1.603248e+09  \n",
       "50%    1.603248e+09  \n",
       "75%    1.603248e+09  \n",
       "max    1.603249e+09  "
      ]
     },
     "execution_count": 31,
     "metadata": {},
     "output_type": "execute_result"
    }
   ],
   "source": [
    "#describe dataframe\n",
    "result = weather_df.describe()\n",
    "pd.DataFrame(result) \n"
   ]
  },
  {
   "cell_type": "code",
   "execution_count": 32,
   "metadata": {},
   "outputs": [],
   "source": [
    "#output data\n",
    "weather_df.to_csv(output_data)"
   ]
  },
  {
   "cell_type": "markdown",
   "metadata": {},
   "source": [
    "## Inspect the data and remove the cities where the humidity > 100%.\n",
    "----\n",
    "Skip this step if there are no cities that have humidity > 100%. "
   ]
  },
  {
   "cell_type": "code",
   "execution_count": 6,
   "metadata": {},
   "outputs": [
    {
     "data": {
      "text/html": [
       "<div>\n",
       "<style scoped>\n",
       "    .dataframe tbody tr th:only-of-type {\n",
       "        vertical-align: middle;\n",
       "    }\n",
       "\n",
       "    .dataframe tbody tr th {\n",
       "        vertical-align: top;\n",
       "    }\n",
       "\n",
       "    .dataframe thead th {\n",
       "        text-align: right;\n",
       "    }\n",
       "</style>\n",
       "<table border=\"1\" class=\"dataframe\">\n",
       "  <thead>\n",
       "    <tr style=\"text-align: right;\">\n",
       "      <th></th>\n",
       "      <th>Lat</th>\n",
       "      <th>Lng</th>\n",
       "      <th>Max Temp</th>\n",
       "      <th>Humidity</th>\n",
       "      <th>Cloudiness</th>\n",
       "      <th>Wind Speed</th>\n",
       "      <th>Date</th>\n",
       "    </tr>\n",
       "  </thead>\n",
       "  <tbody>\n",
       "    <tr>\n",
       "      <th>count</th>\n",
       "      <td>550.000000</td>\n",
       "      <td>550.000000</td>\n",
       "      <td>550.000000</td>\n",
       "      <td>550.000000</td>\n",
       "      <td>550.000000</td>\n",
       "      <td>550.000000</td>\n",
       "      <td>5.500000e+02</td>\n",
       "    </tr>\n",
       "    <tr>\n",
       "      <th>mean</th>\n",
       "      <td>19.973545</td>\n",
       "      <td>17.124400</td>\n",
       "      <td>58.331400</td>\n",
       "      <td>67.890909</td>\n",
       "      <td>52.141818</td>\n",
       "      <td>8.544800</td>\n",
       "      <td>1.585764e+09</td>\n",
       "    </tr>\n",
       "    <tr>\n",
       "      <th>std</th>\n",
       "      <td>33.284840</td>\n",
       "      <td>91.595451</td>\n",
       "      <td>25.795297</td>\n",
       "      <td>20.864881</td>\n",
       "      <td>35.766469</td>\n",
       "      <td>6.078869</td>\n",
       "      <td>5.539674e+01</td>\n",
       "    </tr>\n",
       "    <tr>\n",
       "      <th>min</th>\n",
       "      <td>-54.800000</td>\n",
       "      <td>-179.170000</td>\n",
       "      <td>-11.340000</td>\n",
       "      <td>9.000000</td>\n",
       "      <td>0.000000</td>\n",
       "      <td>0.160000</td>\n",
       "      <td>1.585764e+09</td>\n",
       "    </tr>\n",
       "    <tr>\n",
       "      <th>25%</th>\n",
       "      <td>-8.077500</td>\n",
       "      <td>-64.627500</td>\n",
       "      <td>42.800000</td>\n",
       "      <td>55.000000</td>\n",
       "      <td>20.000000</td>\n",
       "      <td>4.525000</td>\n",
       "      <td>1.585764e+09</td>\n",
       "    </tr>\n",
       "    <tr>\n",
       "      <th>50%</th>\n",
       "      <td>23.630000</td>\n",
       "      <td>19.635000</td>\n",
       "      <td>64.940000</td>\n",
       "      <td>72.000000</td>\n",
       "      <td>57.000000</td>\n",
       "      <td>7.325000</td>\n",
       "      <td>1.585764e+09</td>\n",
       "    </tr>\n",
       "    <tr>\n",
       "      <th>75%</th>\n",
       "      <td>48.672500</td>\n",
       "      <td>97.350000</td>\n",
       "      <td>78.800000</td>\n",
       "      <td>83.000000</td>\n",
       "      <td>86.750000</td>\n",
       "      <td>11.410000</td>\n",
       "      <td>1.585764e+09</td>\n",
       "    </tr>\n",
       "    <tr>\n",
       "      <th>max</th>\n",
       "      <td>78.220000</td>\n",
       "      <td>179.320000</td>\n",
       "      <td>102.200000</td>\n",
       "      <td>100.000000</td>\n",
       "      <td>100.000000</td>\n",
       "      <td>46.080000</td>\n",
       "      <td>1.585764e+09</td>\n",
       "    </tr>\n",
       "  </tbody>\n",
       "</table>\n",
       "</div>"
      ],
      "text/plain": [
       "              Lat         Lng    Max Temp    Humidity  Cloudiness  Wind Speed  \\\n",
       "count  550.000000  550.000000  550.000000  550.000000  550.000000  550.000000   \n",
       "mean    19.973545   17.124400   58.331400   67.890909   52.141818    8.544800   \n",
       "std     33.284840   91.595451   25.795297   20.864881   35.766469    6.078869   \n",
       "min    -54.800000 -179.170000  -11.340000    9.000000    0.000000    0.160000   \n",
       "25%     -8.077500  -64.627500   42.800000   55.000000   20.000000    4.525000   \n",
       "50%     23.630000   19.635000   64.940000   72.000000   57.000000    7.325000   \n",
       "75%     48.672500   97.350000   78.800000   83.000000   86.750000   11.410000   \n",
       "max     78.220000  179.320000  102.200000  100.000000  100.000000   46.080000   \n",
       "\n",
       "               Date  \n",
       "count  5.500000e+02  \n",
       "mean   1.585764e+09  \n",
       "std    5.539674e+01  \n",
       "min    1.585764e+09  \n",
       "25%    1.585764e+09  \n",
       "50%    1.585764e+09  \n",
       "75%    1.585764e+09  \n",
       "max    1.585764e+09  "
      ]
     },
     "execution_count": 6,
     "metadata": {},
     "output_type": "execute_result"
    }
   ],
   "source": [
    "#there is no city that have humidity > 100%"
   ]
  },
  {
   "cell_type": "code",
   "execution_count": 17,
   "metadata": {},
   "outputs": [
    {
     "data": {
      "text/plain": [
       "Int64Index([], dtype='int64')"
      ]
     },
     "execution_count": 17,
     "metadata": {},
     "output_type": "execute_result"
    }
   ],
   "source": [
    "#  Get the indices of cities that have humidity over 100%.\n",
    "#there is no city that have humidity > 100%"
   ]
  },
  {
   "cell_type": "code",
   "execution_count": 19,
   "metadata": {},
   "outputs": [
    {
     "data": {
      "text/html": [
       "<div>\n",
       "<style scoped>\n",
       "    .dataframe tbody tr th:only-of-type {\n",
       "        vertical-align: middle;\n",
       "    }\n",
       "\n",
       "    .dataframe tbody tr th {\n",
       "        vertical-align: top;\n",
       "    }\n",
       "\n",
       "    .dataframe thead th {\n",
       "        text-align: right;\n",
       "    }\n",
       "</style>\n",
       "<table border=\"1\" class=\"dataframe\">\n",
       "  <thead>\n",
       "    <tr style=\"text-align: right;\">\n",
       "      <th></th>\n",
       "      <th>City</th>\n",
       "      <th>Lat</th>\n",
       "      <th>Lng</th>\n",
       "      <th>Max Temp</th>\n",
       "      <th>Humidity</th>\n",
       "      <th>Cloudiness</th>\n",
       "      <th>Wind Speed</th>\n",
       "      <th>Country</th>\n",
       "      <th>Date</th>\n",
       "    </tr>\n",
       "  </thead>\n",
       "  <tbody>\n",
       "    <tr>\n",
       "      <td>0</td>\n",
       "      <td>butaritari</td>\n",
       "      <td>3.07</td>\n",
       "      <td>172.79</td>\n",
       "      <td>83.32</td>\n",
       "      <td>74</td>\n",
       "      <td>84</td>\n",
       "      <td>10.42</td>\n",
       "      <td>KI</td>\n",
       "      <td>1593605283</td>\n",
       "    </tr>\n",
       "    <tr>\n",
       "      <td>1</td>\n",
       "      <td>yerbogachen</td>\n",
       "      <td>61.28</td>\n",
       "      <td>108.01</td>\n",
       "      <td>79.52</td>\n",
       "      <td>58</td>\n",
       "      <td>20</td>\n",
       "      <td>7.70</td>\n",
       "      <td>RU</td>\n",
       "      <td>1593605121</td>\n",
       "    </tr>\n",
       "    <tr>\n",
       "      <td>2</td>\n",
       "      <td>cape town</td>\n",
       "      <td>-33.93</td>\n",
       "      <td>18.42</td>\n",
       "      <td>73.00</td>\n",
       "      <td>77</td>\n",
       "      <td>27</td>\n",
       "      <td>4.70</td>\n",
       "      <td>ZA</td>\n",
       "      <td>1593605039</td>\n",
       "    </tr>\n",
       "    <tr>\n",
       "      <td>3</td>\n",
       "      <td>touba</td>\n",
       "      <td>8.28</td>\n",
       "      <td>-7.68</td>\n",
       "      <td>79.97</td>\n",
       "      <td>75</td>\n",
       "      <td>82</td>\n",
       "      <td>3.58</td>\n",
       "      <td>CI</td>\n",
       "      <td>1593605284</td>\n",
       "    </tr>\n",
       "    <tr>\n",
       "      <td>4</td>\n",
       "      <td>jamestown</td>\n",
       "      <td>42.10</td>\n",
       "      <td>-79.24</td>\n",
       "      <td>64.00</td>\n",
       "      <td>88</td>\n",
       "      <td>1</td>\n",
       "      <td>6.93</td>\n",
       "      <td>US</td>\n",
       "      <td>1593605284</td>\n",
       "    </tr>\n",
       "  </tbody>\n",
       "</table>\n",
       "</div>"
      ],
      "text/plain": [
       "          City    Lat     Lng  Max Temp  Humidity  Cloudiness  Wind Speed  \\\n",
       "0   butaritari   3.07  172.79     83.32        74          84       10.42   \n",
       "1  yerbogachen  61.28  108.01     79.52        58          20        7.70   \n",
       "2    cape town -33.93   18.42     73.00        77          27        4.70   \n",
       "3        touba   8.28   -7.68     79.97        75          82        3.58   \n",
       "4    jamestown  42.10  -79.24     64.00        88           1        6.93   \n",
       "\n",
       "  Country        Date  \n",
       "0      KI  1593605283  \n",
       "1      RU  1593605121  \n",
       "2      ZA  1593605039  \n",
       "3      CI  1593605284  \n",
       "4      US  1593605284  "
      ]
     },
     "execution_count": 19,
     "metadata": {},
     "output_type": "execute_result"
    }
   ],
   "source": [
    "# Make a new DataFrame equal to the city data to drop all humidity outliers by index.\n",
    "# Passing \"inplace=False\" will make a copy of the city_data DataFrame, which we call \"clean_city_data\".\n",
    "#there is no city that have humidity > 100%"
   ]
  },
  {
   "cell_type": "code",
   "execution_count": null,
   "metadata": {},
   "outputs": [],
   "source": [
    "\n"
   ]
  },
  {
   "cell_type": "markdown",
   "metadata": {},
   "source": [
    "## Plotting the Data\n",
    "* Use proper labeling of the plots using plot titles (including date of analysis) and axes labels.\n",
    "* Save the plotted figures as .pngs."
   ]
  },
  {
   "cell_type": "markdown",
   "metadata": {},
   "source": [
    "## Latitude vs. Temperature Plot"
   ]
  },
  {
   "cell_type": "code",
   "execution_count": 33,
   "metadata": {
    "scrolled": true
   },
   "outputs": [
    {
     "data": {
      "image/png": "[encoded data removed]",
      "text/plain": [
       "<Figure size 432x288 with 1 Axes>"
      ]
     },
     "metadata": {
      "needs_background": "light"
     },
     "output_type": "display_data"
    }
   ],
   "source": [
    "plt.scatter(weather_df[\"Lat\"],weather_df[\"Max Temp\"],edgecolors=\"black\",facecolors=\"red\")\n",
    "plt.title(\"City Latitude vs. Max Temperature (10/20/2020)\")\n",
    "plt.xlabel(\"Latitude\")\n",
    "plt.ylabel(\"Max Temperature (F)\")\n",
    "plt.grid (b=True,which=\"major\",axis=\"both\",linestyle=\"-\",color=\"lightgrey\")\n",
    "plt.savefig(\"Pictures/output1.png\")\n",
    "plt.show()"
   ]
  },
  {
   "cell_type": "markdown",
   "metadata": {},
   "source": [
    "## Latitude vs. Humidity Plot"
   ]
  },
  {
   "cell_type": "code",
   "execution_count": 35,
   "metadata": {},
   "outputs": [
    {
     "data": {
      "image/png": "[encoded data removed]",
      "text/plain": [
       "<Figure size 432x288 with 1 Axes>"
      ]
     },
     "metadata": {
      "needs_background": "light"
     },
     "output_type": "display_data"
    }
   ],
   "source": [
    "plt.scatter(weather_df[\"Lat\"],weather_df[\"Humidity\"],edgecolors=\"black\",facecolors=\"skyblue\")\n",
    "plt.title(\"City Latitude vs. Humidity (10/20/2020)\")\n",
    "plt.xlabel(\"Latitude\")\n",
    "plt.ylabel(\"Humidity (%)\")\n",
    "plt.grid (b=True,which=\"major\",axis=\"both\",linestyle=\"-\",color=\"lightgrey\")\n",
    "plt.savefig(\"Pictures/output2.png\")\n",
    "plt.show()"
   ]
  },
  {
   "cell_type": "markdown",
   "metadata": {},
   "source": [
    "## Latitude vs. Cloudiness Plot"
   ]
  },
  {
   "cell_type": "code",
   "execution_count": 36,
   "metadata": {},
   "outputs": [
    {
     "data": {
      "image/png": "[encoded data removed]",
      "text/plain": [
       "<Figure size 432x288 with 1 Axes>"
      ]
     },
     "metadata": {
      "needs_background": "light"
     },
     "output_type": "display_data"
    }
   ],
   "source": [
    "plt.scatter(weather_df[\"Lat\"],weather_df[\"Cloudiness\"],edgecolors=\"black\",facecolors=\"yellow\")\n",
    "plt.title(\"City Latitude vs. Cloudiness (10/20/2020)\")\n",
    "plt.xlabel(\"Latitude\")\n",
    "plt.ylabel(\"Cloudiness (%)\")\n",
    "plt.grid (b=True,which=\"major\",axis=\"both\",linestyle=\"-\",color=\"lightgrey\")\n",
    "plt.savefig(\"Pictures/output3.png\")\n",
    "plt.show()"
   ]
  },
  {
   "cell_type": "markdown",
   "metadata": {},
   "source": [
    "## Latitude vs. Wind Speed Plot"
   ]
  },
  {
   "cell_type": "code",
   "execution_count": 71,
   "metadata": {},
   "outputs": [
    {
     "data": {
      "image/png": "[encoded data removed]",
      "text/plain": [
       "<Figure size 432x288 with 1 Axes>"
      ]
     },
     "metadata": {
      "needs_background": "light"
     },
     "output_type": "display_data"
    }
   ],
   "source": [
    "plt.scatter(weather_df[\"Lat\"],weather_df[\"Wind Speed\"],edgecolors=\"black\",facecolors=\"green\")\n",
    "plt.title(\"City Latitude vs. Wind Speed (10/20/2020)\")\n",
    "plt.xlabel(\"Latitude\")\n",
    "plt.ylabel(\"Wind Speed (mph)\")\n",
    "plt.grid (b=True,which=\"major\",axis=\"both\",linestyle=\"-\",color=\"lightgrey\")\n",
    "plt.savefig(\"Pictures/output4.png\")\n",
    "plt.show()"
   ]
  },
  {
   "cell_type": "markdown",
   "metadata": {},
   "source": [
    "## Linear Regression"
   ]
  },
  {
   "cell_type": "code",
   "execution_count": 62,
   "metadata": {},
   "outputs": [],
   "source": [
    "#split data to Northern and Southern\n",
    "Northern_data = weather_df.loc[weather_df[\"Lat\"] >= 0]\n",
    "Southern_data = weather_df.loc[weather_df[\"Lat\"] < 0]"
   ]
  },
  {
   "cell_type": "markdown",
   "metadata": {},
   "source": [
    "####  Northern Hemisphere - Max Temp vs. Latitude Linear Regression"
   ]
  },
  {
   "cell_type": "code",
   "execution_count": 77,
   "metadata": {},
   "outputs": [
    {
     "name": "stdout",
     "output_type": "stream",
     "text": [
      "The correlation between Max Temp and Latitude in Northern is -0.887\n"
     ]
    },
    {
     "data": {
      "image/png": "[encoded data removed]",
      "text/plain": [
       "<Figure size 432x288 with 1 Axes>"
      ]
     },
     "metadata": {
      "needs_background": "light"
     },
     "output_type": "display_data"
    }
   ],
   "source": [
    "corr=stats.pearsonr(Northern_data['Lat'],Northern_data['Max Temp'])[0]\n",
    "\n",
    "print(f\"The correlation between Max Temp and Latitude in Northern is {round(corr,4)}\")\n",
    "\n",
    "model = stats.linregress(Northern_data['Lat'],Northern_data['Max Temp'])\n",
    "\n",
    "y_values = Northern_data['Lat']*model[0]+model[1]\n",
    "line_y= f\"Y = {round(model[0], 2)} X + {round(model[1], 2)}\"\n",
    "plt.annotate(line_y,(0,20), color='red', fontsize=12)\n",
    "\n",
    "plt.scatter(Northern_data['Lat'],Northern_data['Max Temp'])\n",
    "plt.plot(Northern_data['Lat'],y_values,color=\"red\")\n",
    "plt.title(\"Max Temp and Latitude in Northern (10/20/2020)\")\n",
    "plt.xlabel('Latitude')\n",
    "plt.ylabel('Max Temperature (F)')\n",
    "plt.savefig(\"Pictures/output5.png\")\n",
    "plt.show()\n"
   ]
  },
  {
   "cell_type": "markdown",
   "metadata": {},
   "source": [
    "####  Southern Hemisphere - Max Temp vs. Latitude Linear Regression"
   ]
  },
  {
   "cell_type": "code",
   "execution_count": 78,
   "metadata": {},
   "outputs": [
    {
     "name": "stdout",
     "output_type": "stream",
     "text": [
      "The correlation between Max Temp and Latitude in Southern is 0.7154\n"
     ]
    },
    {
     "data": {
      "image/png": "[encoded data removed]",
      "text/plain": [
       "<Figure size 432x288 with 1 Axes>"
      ]
     },
     "metadata": {
      "needs_background": "light"
     },
     "output_type": "display_data"
    }
   ],
   "source": [
    "corr=stats.pearsonr(Southern_data['Lat'],Southern_data['Max Temp'])[0]\n",
    "\n",
    "print(f\"The correlation between Max Temp and Latitude in Southern is {round(corr,4)}\")\n",
    "\n",
    "model = stats.linregress(Southern_data['Lat'],Southern_data['Max Temp'])\n",
    "\n",
    "y_values = Southern_data['Lat']*model[0]+model[1]\n",
    "line_y= f\"Y = {round(model[0], 2)} X + {round(model[1], 2)}\"\n",
    "plt.annotate(line_y,(-50,90), color='red', fontsize=12)\n",
    "\n",
    "plt.scatter(Southern_data['Lat'],Southern_data['Max Temp'])\n",
    "plt.plot(Southern_data['Lat'],y_values,color=\"red\")\n",
    "plt.title(\"Max Temp and Latitude in Southern (10/20/2020)\")\n",
    "plt.xlabel('Latitude')\n",
    "plt.ylabel('Max Temperature (F)')\n",
    "plt.savefig(\"Pictures/output6.png\")\n",
    "plt.show()\n"
   ]
  },
  {
   "cell_type": "markdown",
   "metadata": {},
   "source": [
    "####  Northern Hemisphere - Humidity (%) vs. Latitude Linear Regression"
   ]
  },
  {
   "cell_type": "code",
   "execution_count": 79,
   "metadata": {},
   "outputs": [
    {
     "name": "stdout",
     "output_type": "stream",
     "text": [
      "The correlation between Humidity and Latitude in Northern is 0.2445\n"
     ]
    },
    {
     "data": {
      "image/png": "[encoded data removed]",
      "text/plain": [
       "<Figure size 432x288 with 1 Axes>"
      ]
     },
     "metadata": {
      "needs_background": "light"
     },
     "output_type": "display_data"
    }
   ],
   "source": [
    "corr=stats.pearsonr(Northern_data['Lat'],Northern_data['Humidity'])[0]\n",
    "\n",
    "print(f\"The correlation between Humidity and Latitude in Northern is {round(corr,4)}\")\n",
    "\n",
    "model = stats.linregress(Northern_data['Lat'],Northern_data['Humidity'])\n",
    "\n",
    "y_values = Northern_data['Lat']*model[0]+model[1]\n",
    "line_y= f\"Y = {round(model[0], 2)} X + {round(model[1], 2)}\"\n",
    "plt.annotate(line_y,(40,5), color='red', fontsize=12)\n",
    "\n",
    "plt.scatter(Northern_data['Lat'],Northern_data['Humidity'])\n",
    "plt.plot(Northern_data['Lat'],y_values,color=\"red\")\n",
    "plt.title(\"Humidity and Latitude in Northern (10/20/2020)\")\n",
    "plt.xlabel('Latitude')\n",
    "plt.ylabel('Humidity(%)')\n",
    "plt.savefig(\"Pictures/output7.png\")\n",
    "plt.show()\n"
   ]
  },
  {
   "cell_type": "markdown",
   "metadata": {},
   "source": [
    "####  Southern Hemisphere - Humidity (%) vs. Latitude Linear Regression"
   ]
  },
  {
   "cell_type": "code",
   "execution_count": 80,
   "metadata": {
    "scrolled": true
   },
   "outputs": [
    {
     "name": "stdout",
     "output_type": "stream",
     "text": [
      "The correlation between Humidity and Latitude in Southern is 0.0512\n"
     ]
    },
    {
     "data": {
      "image/png": "[encoded data removed]",
      "text/plain": [
       "<Figure size 432x288 with 1 Axes>"
      ]
     },
     "metadata": {
      "needs_background": "light"
     },
     "output_type": "display_data"
    }
   ],
   "source": [
    "corr=stats.pearsonr(Southern_data['Lat'],Southern_data['Humidity'])[0]\n",
    "\n",
    "print(f\"The correlation between Humidity and Latitude in Southern is {round(corr,4)}\")\n",
    "\n",
    "model = stats.linregress(Southern_data['Lat'],Southern_data['Humidity'])\n",
    "\n",
    "y_values = Southern_data['Lat']*model[0]+model[1]\n",
    "line_y= f\"Y = {round(model[0], 2)} X + {round(model[1], 2)}\"\n",
    "plt.annotate(line_y,(-50,40), color='red', fontsize=12)\n",
    "\n",
    "plt.scatter(Southern_data['Lat'],Southern_data['Humidity'])\n",
    "plt.plot(Southern_data['Lat'],y_values,color=\"red\")\n",
    "plt.title(\"Humidity and Latitude in Southern (10/20/2020)\")\n",
    "plt.xlabel('Latitude')\n",
    "plt.ylabel('Humidity (%)')\n",
    "plt.savefig(\"Pictures/output8.png\")\n",
    "plt.show()"
   ]
  },
  {
   "cell_type": "markdown",
   "metadata": {},
   "source": [
    "####  Northern Hemisphere - Cloudiness (%) vs. Latitude Linear Regression"
   ]
  },
  {
   "cell_type": "code",
   "execution_count": 81,
   "metadata": {},
   "outputs": [
    {
     "name": "stdout",
     "output_type": "stream",
     "text": [
      "The correlation between Cloudiness and Latitude in Northern is 0.2451\n"
     ]
    },
    {
     "data": {
      "image/png": "[encoded data removed]",
      "text/plain": [
       "<Figure size 432x288 with 1 Axes>"
      ]
     },
     "metadata": {
      "needs_background": "light"
     },
     "output_type": "display_data"
    }
   ],
   "source": [
    "corr=stats.pearsonr(Northern_data['Lat'],Northern_data['Cloudiness'])[0]\n",
    "\n",
    "print(f\"The correlation between Cloudiness and Latitude in Northern is {round(corr,4)}\")\n",
    "\n",
    "model = stats.linregress(Northern_data['Lat'],Northern_data['Cloudiness'])\n",
    "\n",
    "y_values = Northern_data['Lat']*model[0]+model[1]\n",
    "line_y= f\"Y = {round(model[0], 2)} X + {round(model[1], 2)}\"\n",
    "plt.annotate(line_y,(40,42), color='red', fontsize=12)\n",
    "\n",
    "plt.scatter(Northern_data['Lat'],Northern_data['Cloudiness'])\n",
    "plt.plot(Northern_data['Lat'],y_values,color=\"red\")\n",
    "plt.title(\"Cloudiness and Latitude in Northern (10/20/2020)\")\n",
    "plt.xlabel('Latitude')\n",
    "plt.ylabel('Cloudiness(%)')\n",
    "plt.savefig(\"Pictures/output9.png\")\n",
    "plt.show()\n"
   ]
  },
  {
   "cell_type": "markdown",
   "metadata": {},
   "source": [
    "####  Southern Hemisphere - Cloudiness (%) vs. Latitude Linear Regression"
   ]
  },
  {
   "cell_type": "code",
   "execution_count": 82,
   "metadata": {},
   "outputs": [
    {
     "name": "stdout",
     "output_type": "stream",
     "text": [
      "The correlation between Cloudiness and Latitude in Southern is 0.2051\n"
     ]
    },
    {
     "data": {
      "image/png": "[encoded data removed]",
      "text/plain": [
       "<Figure size 432x288 with 1 Axes>"
      ]
     },
     "metadata": {
      "needs_background": "light"
     },
     "output_type": "display_data"
    }
   ],
   "source": [
    "corr=stats.pearsonr(Southern_data['Lat'],Southern_data['Cloudiness'])[0]\n",
    "\n",
    "print(f\"The correlation between Cloudiness and Latitude in Southern is {round(corr,4)}\")\n",
    "\n",
    "model = stats.linregress(Southern_data['Lat'],Southern_data['Cloudiness'])\n",
    "\n",
    "y_values = Southern_data['Lat']*model[0]+model[1]\n",
    "line_y= f\"Y = {round(model[0], 2)} X + {round(model[1], 2)}\"\n",
    "plt.annotate(line_y,(-30,30), color='red', fontsize=12)\n",
    "\n",
    "plt.scatter(Southern_data['Lat'],Southern_data['Cloudiness'])\n",
    "plt.plot(Southern_data['Lat'],y_values,color=\"red\")\n",
    "plt.title(\"Cloudiness and Latitude in Southern (10/20/2020)\")\n",
    "plt.xlabel('Latitude')\n",
    "plt.ylabel('Cloudiness (%)')\n",
    "plt.savefig(\"Pictures/output10.png\")\n",
    "plt.show()"
   ]
  },
  {
   "cell_type": "markdown",
   "metadata": {},
   "source": [
    "####  Northern Hemisphere - Wind Speed (mph) vs. Latitude Linear Regression"
   ]
  },
  {
   "cell_type": "code",
   "execution_count": 83,
   "metadata": {},
   "outputs": [
    {
     "name": "stdout",
     "output_type": "stream",
     "text": [
      "The correlation between Wind Speed and Latitude in Northern is 0.1184\n"
     ]
    },
    {
     "data": {
      "image/png": "[encoded data removed]",
      "text/plain": [
       "<Figure size 432x288 with 1 Axes>"
      ]
     },
     "metadata": {
      "needs_background": "light"
     },
     "output_type": "display_data"
    }
   ],
   "source": [
    "corr=stats.pearsonr(Northern_data['Lat'],Northern_data['Wind Speed'])[0]\n",
    "\n",
    "print(f\"The correlation between Wind Speed and Latitude in Northern is {round(corr,4)}\")\n",
    "\n",
    "model = stats.linregress(Northern_data['Lat'],Northern_data['Wind Speed'])\n",
    "\n",
    "y_values = Northern_data['Lat']*model[0]+model[1]\n",
    "line_y= f\"Y = {round(model[0], 2)} X + {round(model[1], 2)}\"\n",
    "plt.annotate(line_y,(0,20), color='red', fontsize=12)\n",
    "\n",
    "plt.scatter(Northern_data['Lat'],Northern_data['Wind Speed'])\n",
    "plt.plot(Northern_data['Lat'],y_values,color=\"red\")\n",
    "plt.title(\"Wind Speed and Latitude in Northern (10/20/2020)\")\n",
    "plt.xlabel('Latitude')\n",
    "plt.ylabel('Wind Speed(mph)')\n",
    "plt.savefig(\"Pictures/output11.png\")\n",
    "plt.show()\n"
   ]
  },
  {
   "cell_type": "markdown",
   "metadata": {},
   "source": [
    "####  Southern Hemisphere - Wind Speed (mph) vs. Latitude Linear Regression"
   ]
  },
  {
   "cell_type": "code",
   "execution_count": 84,
   "metadata": {},
   "outputs": [
    {
     "name": "stdout",
     "output_type": "stream",
     "text": [
      "The correlation between Wind Speed and Latitude in Southern is -0.1789\n"
     ]
    },
    {
     "data": {
      "image/png": "[encoded data removed]",
      "text/plain": [
       "<Figure size 432x288 with 1 Axes>"
      ]
     },
     "metadata": {
      "needs_background": "light"
     },
     "output_type": "display_data"
    }
   ],
   "source": [
    "corr=stats.pearsonr(Southern_data['Lat'],Southern_data['Wind Speed'])[0]\n",
    "\n",
    "print(f\"The correlation between Wind Speed and Latitude in Southern is {round(corr,4)}\")\n",
    "\n",
    "model = stats.linregress(Southern_data['Lat'],Southern_data['Wind Speed'])\n",
    "\n",
    "y_values = Southern_data['Lat']*model[0]+model[1]\n",
    "line_y= f\"Y = {round(model[0], 2)} X + {round(model[1], 2)}\"\n",
    "plt.annotate(line_y,(-50,15), color='red', fontsize=12)\n",
    "\n",
    "plt.scatter(Southern_data['Lat'],Southern_data['Wind Speed'])\n",
    "plt.plot(Southern_data['Lat'],y_values,color=\"red\")\n",
    "plt.title(\"Wind Speed and Latitude in Southern (10/20/2020)\")\n",
    "plt.xlabel('Latitude')\n",
    "plt.ylabel('Wind Speed (mph)')\n",
    "plt.savefig(\"Pictures/output12.png\")\n",
    "plt.show()"
   ]
  },
  {
   "cell_type": "code",
   "execution_count": null,
   "metadata": {},
   "outputs": [],
   "source": []
  }
 ],
 "metadata": {
  "anaconda-cloud": {},
  "kernel_info": {
   "name": "python3"
  },
  "kernelspec": {
   "display_name": "Python 3",
   "language": "python",
   "name": "python3"
  },
  "language_info": {
   "codemirror_mode": {
    "name": "ipython",
    "version": 3
   },
   "file_extension": ".py",
   "mimetype": "text/x-python",
   "name": "python",
   "nbconvert_exporter": "python",
   "pygments_lexer": "ipython3",
   "version": "3.8.3"
  },
  "latex_envs": {
   "LaTeX_envs_menu_present": true,
   "autoclose": false,
   "autocomplete": true,
   "bibliofile": "biblio.bib",
   "cite_by": "apalike",
   "current_citInitial": 1,
   "eqLabelWithNumbers": true,
   "eqNumInitial": 1,
   "hotkeys": {
    "equation": "Ctrl-E",
    "itemize": "Ctrl-I"
   },
   "labels_anchors": false,
   "latex_user_defs": false,
   "report_style_numbering": false,
   "user_envs_cfg": false
  },
  "nteract": {
   "version": "0.12.3"
  }
 },
 "nbformat": 4,
 "nbformat_minor": 2
}
